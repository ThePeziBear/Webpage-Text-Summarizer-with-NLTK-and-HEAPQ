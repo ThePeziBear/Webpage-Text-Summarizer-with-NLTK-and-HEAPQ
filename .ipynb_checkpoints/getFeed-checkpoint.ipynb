{
 "cells": [
  {
   "cell_type": "code",
   "execution_count": 4,
   "metadata": {},
   "outputs": [],
   "source": [
    "import pandas as pd\n",
    "import numpy as np\n",
    "from bs4 import BeautifulSoup as bs\n",
    "import requests\n",
    "from contextlib import contextmanager\n",
    "import feedparser"
   ]
  },
  {
   "cell_type": "code",
   "execution_count": 2,
   "metadata": {},
   "outputs": [],
   "source": [
    "def time_limit(seconds):\n",
    "    def signal_handler(signum,frame):\n",
    "        raise TimeoutException\n",
    "        \n",
    "    signal.signal(signal.SIGALRM,signal_handler)\n",
    "    signal.alarm(seconds)\n",
    "    \n",
    "    try:\n",
    "        yield\n",
    "    finally:\n",
    "        signal.alarm(0)"
   ]
  },
  {
   "cell_type": "code",
   "execution_count": 3,
   "metadata": {},
   "outputs": [],
   "source": [
    "def get_response(url):\n",
    "    hdr = {'User-Agent':'Mozilla/5.4'}\n",
    "    while True:\n",
    "        try:\n",
    "            with time_limit(100):\n",
    "                content=requests.get(url,headers=hdr).content\n",
    "                break\n",
    "        except Exception as e:\n",
    "            print('Request Timeout')\n",
    "            raise e\n",
    "        pass\n",
    "    return content"
   ]
  },
  {
   "cell_type": "code",
   "execution_count": 4,
   "metadata": {},
   "outputs": [],
   "source": [
    "def get_soup(url):\n",
    "    response = get_response(url)\n",
    "    soup = bs(response,'lxml-xml')\n",
    "    return soup"
   ]
  },
  {
   "cell_type": "code",
   "execution_count": 6,
   "metadata": {},
   "outputs": [],
   "source": [
    "def parse_feed(url):\n",
    "    NewsFeed = feedparser.parse(url)\n",
    "    entry = NewsFeed.entries\n",
    "    return NewsFeed"
   ]
  },
  {
   "cell_type": "code",
   "execution_count": 8,
   "metadata": {},
   "outputs": [],
   "source": [
    "test = parse_feed('https://www.cnbc.com/id/10000664/device/rss/rss.html')"
   ]
  }
 ],
 "metadata": {
  "kernelspec": {
   "display_name": "Python 3",
   "language": "python",
   "name": "python3"
  },
  "language_info": {
   "codemirror_mode": {
    "name": "ipython",
    "version": 3
   },
   "file_extension": ".py",
   "mimetype": "text/x-python",
   "name": "python",
   "nbconvert_exporter": "python",
   "pygments_lexer": "ipython3",
   "version": "3.7.4"
  }
 },
 "nbformat": 4,
 "nbformat_minor": 2
}
